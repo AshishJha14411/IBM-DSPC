{
 "cells": [
  {
   "cell_type": "markdown",
   "metadata": {},
   "source": [
    "#### Exercise 2: Create markdown cell with title of the notebook\n",
    "Create a markdown cell with the title Data Science Tools and Ecosystem using H1 style heading."
   ]
  },
  {
   "cell_type": "markdown",
   "metadata": {},
   "source": [
    "# Data Science Tools and Ecosystem"
   ]
  },
  {
   "cell_type": "markdown",
   "metadata": {},
   "source": [
    "#### Exercise 3 - Create a markdown cell for an introduction\n",
    "Write an introductory sentence about the notebook such as the follows:\n",
    "\n",
    "In this notebook, Data Science Tools and Ecosystem are summarized."
   ]
  },
  {
   "cell_type": "markdown",
   "metadata": {},
   "source": [
    "**Solution**: In this notebook, we have discussed the various tools and techniques used in the industry by Data Scientist across the World. We have also explored basic arithematic in python."
   ]
  },
  {
   "cell_type": "markdown",
   "metadata": {},
   "source": [
    "#### Exercise 4 - Create a markdown cell to list data science languages\n",
    "Start the cell with an overview line such as:\n",
    "\n",
    "Some of the popular languages that Data Scientists use are:\n",
    "Then create an ordered list (i.e. numbered) listing 3 (or more) commonly used languages for data science."
   ]
  },
  {
   "cell_type": "markdown",
   "metadata": {},
   "source": [
    "**Solution:** Some of the Popular languages used in Data Science are as follows:\n",
    "\n",
    "1. Python\n",
    "2. R\n",
    "3. SQL\n",
    "4. Julia\n",
    "5. Java"
   ]
  },
  {
   "cell_type": "markdown",
   "metadata": {},
   "source": [
    "#### Exercise 5 - Create a markdown cell to list data science libraries\n",
    "\n",
    "Add an overview line to the cell like:\n",
    "\n",
    "Some of the commonly used libraries used by Data Scientists include:\n",
    "Below this line add an ordered list listing 3 (or more) commonly used libraries in data science."
   ]
  },
  {
   "cell_type": "markdown",
   "metadata": {},
   "source": [
    "**Solution:**  Some of the Python Programming Libraries used in Data Sciences are as Follows:\n",
    "\n",
    "1. Pandas\n",
    "2. Seaborn\n",
    "3. Scikit-learn\n",
    "4. Tensorflow"
   ]
  },
  {
   "cell_type": "markdown",
   "metadata": {},
   "source": [
    "#### Exercise 6 - Create a markdown cell with a table of Data Science tools\n",
    "\n",
    "Create a single column table in this cell with the first row containing the header Data Science Tools. The subsequent three rows in the table should indicate three development environment open source tools used in data science."
   ]
  },
  {
   "cell_type": "markdown",
   "metadata": {},
   "source": [
    "**Solution:**\n",
    "\n",
    "| Data Science Tools |\n",
    "|--------------------|\n",
    "| Jupyter Notebook  |\n",
    "| RStudio           |\n",
    "| Apache Zeppelin   |"
   ]
  },
  {
   "cell_type": "markdown",
   "metadata": {},
   "source": [
    "#### Exercise 7 - Create a markdown cell introducing arithmetic expression examples\n",
    "\n",
    "Add a line in this cell with H3 style heading with text like:\n",
    "\n",
    "Below are a few examples of evaluating arithmetic expressions in Python."
   ]
  },
  {
   "cell_type": "markdown",
   "metadata": {},
   "source": [
    "**Solution:** Below are examples of basic arithmetic expressions in Python"
   ]
  },
  {
   "cell_type": "code",
   "execution_count": 9,
   "metadata": {},
   "outputs": [
    {
     "name": "stdout",
     "output_type": "stream",
     "text": [
      "9\n"
     ]
    }
   ],
   "source": [
    "# Addition\n",
    "print(4+5) "
   ]
  },
  {
   "cell_type": "code",
   "execution_count": 10,
   "metadata": {},
   "outputs": [
    {
     "name": "stdout",
     "output_type": "stream",
     "text": [
      "5\n"
     ]
    }
   ],
   "source": [
    "# Subtraction\n",
    "\n",
    "print(9-4)"
   ]
  },
  {
   "cell_type": "code",
   "execution_count": 12,
   "metadata": {},
   "outputs": [
    {
     "name": "stdout",
     "output_type": "stream",
     "text": [
      "12\n"
     ]
    }
   ],
   "source": [
    "# Multiplication\n",
    "\n",
    "print(3*4)"
   ]
  },
  {
   "cell_type": "code",
   "execution_count": 13,
   "metadata": {},
   "outputs": [
    {
     "name": "stdout",
     "output_type": "stream",
     "text": [
      "3.3333333333333335\n"
     ]
    }
   ],
   "source": [
    "# Division (with float)\n",
    "\n",
    "print(10/3)"
   ]
  },
  {
   "cell_type": "code",
   "execution_count": 15,
   "metadata": {},
   "outputs": [
    {
     "name": "stdout",
     "output_type": "stream",
     "text": [
      "3\n"
     ]
    }
   ],
   "source": [
    "# Division (without float)\n",
    "\n",
    "print(10//3)"
   ]
  },
  {
   "cell_type": "code",
   "execution_count": 16,
   "metadata": {},
   "outputs": [
    {
     "name": "stdout",
     "output_type": "stream",
     "text": [
      "8\n"
     ]
    }
   ],
   "source": [
    "# Expotent\n",
    "\n",
    "print(2**3)"
   ]
  },
  {
   "cell_type": "code",
   "execution_count": 17,
   "metadata": {},
   "outputs": [
    {
     "name": "stdout",
     "output_type": "stream",
     "text": [
      "1\n"
     ]
    }
   ],
   "source": [
    "# Modulus\n",
    "\n",
    "print(10%3)"
   ]
  },
  {
   "cell_type": "markdown",
   "metadata": {},
   "source": [
    "#### Exercise 8 - Create a code cell to multiply and add numbers\n",
    "\n",
    "In this code cell evaluate the expression (3*4)+5.\n",
    "Insert a comment line before the expression to explain the operation e.g.  This a simple arithmetic expression to mutiply then add integers."
   ]
  },
  {
   "cell_type": "markdown",
   "metadata": {},
   "source": [
    "**Solution:** "
   ]
  },
  {
   "cell_type": "code",
   "execution_count": 19,
   "metadata": {},
   "outputs": [
    {
     "name": "stdout",
     "output_type": "stream",
     "text": [
      "20\n"
     ]
    }
   ],
   "source": [
    "# This is an expression where we are multipling and after that adding. 4*3=12 and 12+8=20\n",
    "print((4*3)+8)"
   ]
  },
  {
   "cell_type": "markdown",
   "metadata": {},
   "source": [
    "#### Exercise 9 - Create a code cell to convert minutes to hours\n",
    "\n",
    "In this code cell write an expression that converts 200 minutes into hours.\n",
    "Insert a comment line before the expression to explain the operation e.g.  This will convert 200 minutes to hours by diving by 60.\n",
    "Run the cell to evaluate the expression."
   ]
  },
  {
   "cell_type": "markdown",
   "metadata": {},
   "source": [
    "**Solution:**"
   ]
  },
  {
   "cell_type": "code",
   "execution_count": 25,
   "metadata": {},
   "outputs": [
    {
     "name": "stdout",
     "output_type": "stream",
     "text": [
      "3.33 hours\n"
     ]
    }
   ],
   "source": [
    "# Expression to context 200 mins into hours\n",
    "\n",
    "print(f\"{round(200/60, 2)} hours\")"
   ]
  },
  {
   "cell_type": "markdown",
   "metadata": {},
   "source": [
    "#### Exercise 10 - Insert a markdown cell to list Objectives\n",
    "\n",
    "Below the introduction cell created in Exercise 3, insert a new markdown cell to list the objectives that this notebook covered (i.e. some of the key takeaways from the course). In this new cell start with an introductory line titled: Objectives: in bold font. Then using an unordered list (bullets) indicate 3 to 5 items covered in this notebook, such as List popular languages for Data Science."
   ]
  },
  {
   "cell_type": "markdown",
   "metadata": {},
   "source": [
    "##### Objectives:\n",
    "\n",
    "In this notebook, we have covered several important topics within the data science ecosystem. These include:\n",
    "\n",
    "- **Popular Languages for Data Science:** Discussed some of the most commonly used programming languages in the data science field such as Python, R, SQL, Julia, and Java.\n",
    "\n",
    "- **Data Science Libraries:** Introduced some of the most widely used libraries in Python for data science, including Pandas, Seaborn, Scikit-learn, and TensorFlow.\n",
    "\n",
    "- **Data Science Tools:** Explored the use of various data science tools, with a focus on Jupyter Notebook, RStudio, and Apache Zeppelin.\n",
    "\n",
    "- **Basic Python Arithmetic:** Demonstrated the use of Python for basic arithmetic operations, such as addition, subtraction, multiplication, division, exponentiation, and modulus operations.\n",
    "\n",
    "- **Minutes to Hours Conversion:** Showed how to convert minutes to hours using a simple division operation in Python, and displayed the result using the print() function."
   ]
  },
  {
   "cell_type": "markdown",
   "metadata": {},
   "source": [
    "#### Exercise 11 - Create a markdown cell to indicate the Author's name\n",
    "\n",
    "In this markdown cell markdown cell include the following text Author in H2 style heading. Include your name as regular text below the word Author.\n",
    "Take a screenshot of the markdown cell and name it as 11-authordetails.png (Images can be saved with either the .jpg or .png extension.)"
   ]
  },
  {
   "cell_type": "markdown",
   "metadata": {},
   "source": [
    "## Author\n",
    "    Ashish Kr Jha"
   ]
  }
 ],
 "metadata": {
  "kernelspec": {
   "display_name": "Python 3",
   "language": "python",
   "name": "python3"
  },
  "language_info": {
   "codemirror_mode": {
    "name": "ipython",
    "version": 3
   },
   "file_extension": ".py",
   "mimetype": "text/x-python",
   "name": "python",
   "nbconvert_exporter": "python",
   "pygments_lexer": "ipython3",
   "version": "3.8.5"
  }
 },
 "nbformat": 4,
 "nbformat_minor": 4
}
